{
 "cells": [
  {
   "cell_type": "markdown",
   "metadata": {},
   "source": [
    "# Compilation en C"
   ]
  },
  {
   "cell_type": "markdown",
   "metadata": {},
   "source": [
    "### La ToolChain\n",
    "C'est-à-dire les étapes pour passer d'un code source à l'éxécutable"
   ]
  },
  {
   "cell_type": "markdown",
   "metadata": {},
   "source": [
    "Voici les étapes d'un fichier source en C à l'éxécutables\n",
    "- Etape de preprocessing (on prend le code et le transformer en langage C pour être compiler)\n",
    "- Etape de compilation par cc il va le transformer en langage assembly (assembleur => outil permettant de transformer le code en langage machine (on dit en fichier objet))\n",
    "- Etape de l'assembleur on le met en fichier code machine\n",
    "- Etape de linking prend les fichier code machine et en faire un executable"
   ]
  },
  {
   "cell_type": "markdown",
   "metadata": {},
   "source": [
    "### Commande\n",
    "- gcc -E main.c -o main.i\n",
    "- gcc -S main.i -o main.s\n",
    "- gcc -C main.s -o main.o\n",
    "- gcc main.o -o main.ew"
   ]
  },
  {
   "cell_type": "markdown",
   "metadata": {},
   "source": [
    "- Pour lister les symboles\n",
    "`nm main.o`\n",
    "\n",
    "- Pour pouvoir convertir un fichier en code assembly `objdump -d main.o`\n",
    "- Pour pouvoir convertir un fichier en code assembly plus en profondeur `objdump -D main.o`"
   ]
  },
  {
   "cell_type": "markdown",
   "metadata": {},
   "source": [
    "### Pour avoir tous ces fichiers en un seul coup\n",
    "- `gcc -save-temps main.c -o main`\n",
    "\n",
    "Le tiret -save-temps c'est pour avoir les fichier intermédiaire"
   ]
  },
  {
   "cell_type": "markdown",
   "metadata": {},
   "source": [
    "Si on souhaite sauter les etapes on peut directement écrire les commandes\n",
    "\n",
    "- etapes objet directement\n",
    "`gcc -c main.c -o main.o`\n",
    "\n",
    "- etapes de assembly directement\n",
    "`gcc -S main.c -o main.s`\n",
    "\n",
    "### ++ On est pas obligé de tous faire dans l'ordre"
   ]
  },
  {
   "cell_type": "markdown",
   "metadata": {},
   "source": []
  },
  {
   "cell_type": "markdown",
   "metadata": {},
   "source": []
  }
 ],
 "metadata": {
  "kernelspec": {
   "display_name": "Python 3",
   "language": "python",
   "name": "python3"
  },
  "language_info": {
   "codemirror_mode": {
    "name": "ipython",
    "version": 3
   },
   "file_extension": ".py",
   "mimetype": "text/x-python",
   "name": "python",
   "nbconvert_exporter": "python",
   "pygments_lexer": "ipython3",
   "version": "3.12.4"
  }
 },
 "nbformat": 4,
 "nbformat_minor": 2
}
